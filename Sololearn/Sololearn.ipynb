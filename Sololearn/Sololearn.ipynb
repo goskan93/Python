{
 "cells": [
  {
   "cell_type": "markdown",
   "metadata": {},
   "source": [
    "# Convert arabic numerals to roman numerals"
   ]
  },
  {
   "cell_type": "code",
   "execution_count": 3,
   "metadata": {},
   "outputs": [
    {
     "name": "stdout",
     "output_type": "stream",
     "text": [
      "MCDXCIV\n"
     ]
    }
   ],
   "source": [
    "def rzymskie(liczba):\n",
    "    n = len(str(liczba))\n",
    "    liczby = []\n",
    "    i= 0\n",
    "    j= 10\n",
    "    while(n > 0):\n",
    "        a = liczba%j - i\n",
    "        liczby.append(a)\n",
    "        liczba -= a \n",
    "        j *=10\n",
    "        n -= 1\n",
    "    liczby.reverse()\n",
    "\n",
    "    dict_rzym = {1:\"I\", 4:\"IV\" , 5:\"V\" ,\n",
    "        9:\"IX\" ,10:\"X\", 14:\"XIV\",19:\"XIX\", \n",
    "        40:\"XL\", 90:\"XC\", 100:\"C\", 400:\"CD\", 500:\"D\",\n",
    "        900:\"CM\", 1000:\"M\"}\n",
    "\n",
    "    rzym = \"\"\n",
    "    for i in liczby:\n",
    "        if i in dict_rzym.keys():\n",
    "            rzym += dict_rzym.get(i)\n",
    "        else:\n",
    "            p = int(str(i)[0])\n",
    "            r= int(i/p)\n",
    "            rzym += p*dict_rzym.get(r)\n",
    "\n",
    "    return rzym\n",
    "\n",
    "print(rzymskie(1494))    \n"
   ]
  },
  {
   "cell_type": "markdown",
   "metadata": {},
   "source": [
    "# Number to Text converter"
   ]
  },
  {
   "cell_type": "code",
   "execution_count": 5,
   "metadata": {},
   "outputs": [
    {
     "name": "stdout",
     "output_type": "stream",
     "text": [
      "one thousand two hundreds thirty four\n"
     ]
    }
   ],
   "source": [
    "\n",
    "def dictionary():\n",
    "    dictionary = { 1:'one', 2:'two', 3:'three', 4:'four', 5:'five',\n",
    "                  6:'six', 7:'seven', 8:'eight', 9:'nine', 10:'ten',\n",
    "                  11:'eleven', 12:'twelve', 13:'thirteen', 14:'fourteen', 15:'fivteen',\n",
    "                  16:'sixteen', 17:'seventeen', 18:'eighteen', 19:'nineteen', \n",
    "                  20:'twenty',30:'thirty', 40:'fourty', 50:'fifty', 60:'sixty', \n",
    "                  70:'seventy',80:'eighty', 90:'ninety' }\n",
    "    return dictionary\n",
    "\n",
    "def jeden(n):\n",
    "    n = int(n)\n",
    "    if n == 0:\n",
    "        return ''\n",
    "    else:    \n",
    "        return dictionary()[n]\n",
    "\n",
    "def dwa(n):\n",
    "    n1 = str(n)[1]\n",
    "    if int(str(n)[0]) == 1:\n",
    "        return dictionary()[n]\n",
    "    elif int(str(n)[0]) == 0:\n",
    "        return jeden(n1)\n",
    "    else:\n",
    "        n2 = int(str(n)[0])*10\n",
    "        return \"{0} {1}\".format(dictionary()[n2],jeden(n1))\n",
    "\n",
    "def trzy(n):\n",
    "    n2 = str(n)[1:]\n",
    "    if int(str(n)[0]) == 1:\n",
    "        return 'one hundred {0}'.format(dwa(n2))\n",
    "    elif int(str(n)[0]) == 0:\n",
    "        return dwa(n2)\n",
    "    else: \n",
    "        n1 = int(str(n)[0])\n",
    "        return '{0} hundreds {1}'.format(dictionary()[n1], dwa(n2))\n",
    "\n",
    "def cztery(n):\n",
    "    n3 = str(n)[1:]\n",
    "    if int(str(n)[0]) == 0:\n",
    "        return trzy(n3)\n",
    "    elif int(str(n)[0]) == 1:\n",
    "        return 'one thousand {0}'.format(trzy(n3))\n",
    "    else: \n",
    "        n1 = int(str(n)[0])\n",
    "        return '{0} thousands {1}'.format(dictionary()[n1],trzy(n3) )\n",
    "\n",
    "\n",
    "\n",
    "def number_to_text(n):\n",
    "    \n",
    "    l = len(str(n))\n",
    "    if n == 0:\n",
    "        return 'zero'\n",
    "    if l == 1:\n",
    "        return jeden(n)\n",
    "    elif l == 2:\n",
    "        return dwa(n)\n",
    "    elif l == 3:\n",
    "        return trzy(n)\n",
    "    elif l == 4:\n",
    "        return cztery(n)\n",
    "    else:\n",
    "        print('Too big integer')\n",
    "\n",
    "print(number_to_text(1234))"
   ]
  },
  {
   "cell_type": "markdown",
   "metadata": {},
   "source": [
    "# Perfect number"
   ]
  },
  {
   "cell_type": "code",
   "execution_count": 10,
   "metadata": {},
   "outputs": [
    {
     "name": "stdout",
     "output_type": "stream",
     "text": [
      "False\n",
      "True\n"
     ]
    }
   ],
   "source": [
    "def perfect_numbers(x):\n",
    "    dzielniki =[]\n",
    "    for i in range(1,x):\n",
    "        if x % i == 0:\n",
    "            dzielniki.append(i)\n",
    "    if sum(dzielniki) == x:\n",
    "        return True\n",
    "    else:\n",
    "        return False\n",
    "print(perfect_numbers(4))\n",
    "print(perfect_numbers(6))"
   ]
  },
  {
   "cell_type": "markdown",
   "metadata": {},
   "source": [
    "# Pronic number"
   ]
  },
  {
   "cell_type": "code",
   "execution_count": 12,
   "metadata": {},
   "outputs": [
    {
     "name": "stdout",
     "output_type": "stream",
     "text": [
      "False\n",
      "True\n"
     ]
    }
   ],
   "source": [
    "def pronic_num(n, x=1):\n",
    "    if x*(x+1) > n:\n",
    "        return False\n",
    "    elif x*(x+1) == n:\n",
    "        return True\n",
    "    return pronic_num(n, x+1)\n",
    "\n",
    "print(pronic_num(n=10)) \n",
    "print(pronic_num(n=42)) "
   ]
  },
  {
   "cell_type": "markdown",
   "metadata": {},
   "source": [
    "# Josephus Problem"
   ]
  },
  {
   "cell_type": "code",
   "execution_count": 13,
   "metadata": {},
   "outputs": [
    {
     "name": "stdout",
     "output_type": "stream",
     "text": [
      "5\n"
     ]
    }
   ],
   "source": [
    "def josepfus(n):\n",
    "    lista = list(range(n))\n",
    "    ind = 0\n",
    "    while len(lista) > 1:\n",
    "        ind += 1\n",
    "        if (ind) < len(lista):\n",
    "            lista.pop(ind)\n",
    "        else:\n",
    "            ind = ind % len(lista) \n",
    "            lista.pop(ind)\n",
    "    print(lista[0]+1)\n",
    "\n",
    "josepfus(10)            \n",
    "            "
   ]
  },
  {
   "cell_type": "markdown",
   "metadata": {},
   "source": [
    "# Amstrong number"
   ]
  },
  {
   "cell_type": "code",
   "execution_count": 15,
   "metadata": {},
   "outputs": [
    {
     "name": "stdout",
     "output_type": "stream",
     "text": [
      "False\n",
      "True\n"
     ]
    }
   ],
   "source": [
    "def amstrong(n):\n",
    "    power = len(str(n))\n",
    "    lista = [int(d)**power for d in str(n)]\n",
    "    if sum(lista) == n:\n",
    "        return True\n",
    "    else:\n",
    "        return False\n",
    "\n",
    "print(amstrong(152))\n",
    "print(amstrong(153))\n"
   ]
  },
  {
   "cell_type": "markdown",
   "metadata": {},
   "source": [
    "# Twin prime numbers"
   ]
  },
  {
   "cell_type": "code",
   "execution_count": 16,
   "metadata": {},
   "outputs": [
    {
     "name": "stdout",
     "output_type": "stream",
     "text": [
      "(3, 5)\n",
      "(5, 7)\n",
      "(11, 13)\n",
      "(17, 19)\n",
      "(29, 31)\n",
      "(41, 43)\n",
      "(59, 61)\n",
      "(71, 73)\n",
      "(101, 103)\n",
      "(107, 109)\n",
      "(137, 139)\n",
      "(149, 151)\n",
      "(179, 181)\n",
      "(191, 193)\n",
      "(197, 199)\n",
      "(227, 229)\n",
      "(239, 241)\n",
      "(269, 271)\n",
      "(281, 283)\n",
      "(311, 313)\n",
      "(347, 349)\n",
      "(419, 421)\n",
      "(431, 433)\n",
      "(461, 463)\n",
      "(521, 523)\n",
      "(569, 571)\n",
      "(599, 601)\n",
      "(617, 619)\n",
      "(641, 643)\n",
      "(659, 661)\n",
      "(809, 811)\n",
      "(821, 823)\n",
      "(827, 829)\n",
      "(857, 859)\n",
      "(881, 883)\n"
     ]
    }
   ],
   "source": [
    "def twin_prime(x,y):\n",
    "    import math\n",
    "    primes = []\n",
    "    d = 1\n",
    "    if x <= 2:\n",
    "        primes.append(2)\n",
    "        primes.append(3)\n",
    "        x = 5\n",
    "        k = 1\n",
    "    else:\n",
    "        if x % 2 == 0:\n",
    "            x += 1\n",
    "        k = int(x / 6)+1\n",
    "\n",
    "    for i in range(x,y+1,2):\n",
    "        if i == 6 * k - d:\n",
    "            ifprime = True\n",
    "            lista = list(range( 2 , int(math.sqrt(i))+1 ))\n",
    "            for j in lista:\n",
    "                if i % j == 0:\n",
    "                    ifprime = False\n",
    "                    break\n",
    "            if ifprime:\n",
    "                primes.append(i)\n",
    "            \n",
    "        elif i == 6 * k + d:\n",
    "            ifprime = True\n",
    "            lista = list(range( 2 , int(math.sqrt(i))+1 )) #math.ceil\n",
    "            for j in lista:\n",
    "                if i % j == 0:\n",
    "                    ifprime = False\n",
    "                    k+=1\n",
    "                    break\n",
    "            if ifprime:\n",
    "                primes.append(i)\n",
    "                k += 1\n",
    "    for i in range(len(primes)-1):\n",
    "        if primes[i+1] - primes[i] == 2:\n",
    "            print ((primes[i],primes[i+1]))\n",
    "            \n",
    "twin_prime(1,1000)"
   ]
  }
 ],
 "metadata": {
  "kernelspec": {
   "display_name": "Python 3",
   "language": "python",
   "name": "python3"
  },
  "language_info": {
   "codemirror_mode": {
    "name": "ipython",
    "version": 3
   },
   "file_extension": ".py",
   "mimetype": "text/x-python",
   "name": "python",
   "nbconvert_exporter": "python",
   "pygments_lexer": "ipython3",
   "version": "3.6.3"
  }
 },
 "nbformat": 4,
 "nbformat_minor": 2
}
